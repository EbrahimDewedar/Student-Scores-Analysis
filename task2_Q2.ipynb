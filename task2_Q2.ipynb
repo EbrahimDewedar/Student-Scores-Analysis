{
 "cells": [
  {
   "cell_type": "code",
   "execution_count": 50,
   "id": "bc3f2e2b-78fc-4ff0-87ac-28e2e5e1f51f",
   "metadata": {},
   "outputs": [],
   "source": [
    "scores = [12, 55, 77, 42, 25, 99, 68, 29, 48]\n",
    "highest=max(scores)\n",
    "above_50=[item for item in scores if item>50]\n",
    "avg=sum(scores)/len(scores)\n",
    "removed_scores=[]\n",
    "for score in scores:\n",
    "    if score<30:\n",
    "        removed_scores.append(score)\n",
    "removed_scores=','.join(map(str,removed_scores))"
   ]
  },
  {
   "cell_type": "code",
   "execution_count": 52,
   "id": "39f7be62-f4dd-4b3c-95d9-f4c1b803db2e",
   "metadata": {},
   "outputs": [
    {
     "name": "stdout",
     "output_type": "stream",
     "text": [
      "the highest score is 99\n",
      "4 students above 50:  55,77,99,68\n",
      "the average score of all students : all_scores/num_of_students: 50.55555555555556\n",
      "students have scores below 30:  12,25,29\n"
     ]
    }
   ],
   "source": [
    "print('the highest score is', highest)\n",
    "print(len(above_50),'students above 50: ',','.join(map(str,above_50)))\n",
    "print('the average score of all students :','all_scores/num_of_students:',sum(scores)/len(scores))\n",
    "print('students have scores below 30: ',removed_scores)"
   ]
  },
  {
   "cell_type": "code",
   "execution_count": null,
   "id": "75001c00-ae80-4394-9885-8e3083a4a5ad",
   "metadata": {},
   "outputs": [],
   "source": []
  }
 ],
 "metadata": {
  "kernelspec": {
   "display_name": "Python 3 (ipykernel)",
   "language": "python",
   "name": "python3"
  },
  "language_info": {
   "codemirror_mode": {
    "name": "ipython",
    "version": 3
   },
   "file_extension": ".py",
   "mimetype": "text/x-python",
   "name": "python",
   "nbconvert_exporter": "python",
   "pygments_lexer": "ipython3",
   "version": "3.12.7"
  }
 },
 "nbformat": 4,
 "nbformat_minor": 5
}
